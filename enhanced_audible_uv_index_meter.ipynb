{
 "cells": [
  {
   "cell_type": "markdown",
   "id": "8b733c48",
   "metadata": {},
   "source": [
    "# Enhanced Audible UV Index Meter\n",
    "\n",
    "Implementing a simple **audible** UV index meter with the \n",
    "DFRobot Gravity:Analog UV Sensor V2\n",
    "![UV Sensor V2](img/UV_sensor_SKU__SEN0162.png)\n",
    "and the \n",
    "DFRobot UNIHIKER\n",
    "![UNIHIKER](img/UNIHIKER.png)\n"
   ]
  },
  {
   "cell_type": "markdown",
   "id": "1ee6d74e",
   "metadata": {},
   "source": [
    "## Connection\n",
    "The **DFRobot Gravity:Analog UV Sensor V2** must be connected to the **UNHIKER** on **P21**:\n",
    "![P21](img/UNIHIKER_P21.png)"
   ]
  },
  {
   "cell_type": "code",
   "execution_count": 1,
   "id": "0cc1078d",
   "metadata": {},
   "outputs": [],
   "source": [
    "# -*- coding: UTF-8 -*-\n",
    "# Wiring: Connect a DFRobot Gravity:Analog UV Sensor V2 to the UNIHIKER P21 pin\n",
    "# Optional: Connect a Blues Notecard Carrier with a Blues Notecard Cellular to the USB port for GPS support"
   ]
  },
  {
   "cell_type": "code",
   "execution_count": 2,
   "id": "e3a80278",
   "metadata": {},
   "outputs": [],
   "source": [
    "import time\n",
    "from pinpong.board import Board, Pin\n",
    "from unihiker import GUI\n",
    "from pinpong.extension.unihiker import *"
   ]
  },
  {
   "cell_type": "markdown",
   "id": "30e42cc4",
   "metadata": {},
   "source": [
    "## Configuration Parameters"
   ]
  },
  {
   "cell_type": "code",
   "execution_count": 3,
   "id": "f47581ec",
   "metadata": {},
   "outputs": [],
   "source": [
    "import configparser\n",
    "config = configparser.ConfigParser()\n",
    "\n",
    "config['DEFAULT'] = {\n",
    "    'Enabled': False\n",
    "}"
   ]
  },
  {
   "cell_type": "markdown",
   "id": "0f35955e",
   "metadata": {},
   "source": [
    "### UI\n",
    "Configuration for the background images etc. ..."
   ]
  },
  {
   "cell_type": "code",
   "execution_count": 4,
   "id": "b4fe11c3",
   "metadata": {},
   "outputs": [],
   "source": [
    "config['UI'] = { \n",
    "    'ImageFilenamePrefix' : 'img/background_',\n",
    "    'ImageFilenameSuffix' : '.jpg'\n",
    "}"
   ]
  },
  {
   "cell_type": "markdown",
   "id": "170039d0",
   "metadata": {},
   "source": [
    "### Data Logging\n",
    "Configuration for data logging:\n",
    "    Setup the log interval in seconds and the name prefix for the data log files."
   ]
  },
  {
   "cell_type": "code",
   "execution_count": 5,
   "id": "f057d4fb",
   "metadata": {},
   "outputs": [],
   "source": [
    "config['DataLogging'] = { \n",
    "    'Enabled': True,\n",
    "    'DataLogInterval' : 60,\n",
    "    'DataLogFilenamePrefix' : 'uv_meter_data.'\n",
    "}"
   ]
  },
  {
   "cell_type": "markdown",
   "id": "e187c076",
   "metadata": {},
   "source": [
    "### Accoustic Alert\n",
    "\n",
    "This configuration enables/disables an automatic accoustic alert when the messaured UV index reaches the given threshold *AlertUVIndex*. The alert then is repeated every *AlertInterval* seconds."
   ]
  },
  {
   "cell_type": "code",
   "execution_count": 6,
   "id": "c5c19d67",
   "metadata": {},
   "outputs": [],
   "source": [
    "config['Alert'] = {\n",
    "    'Enabled': True,\n",
    "    'AlertUvIndex' : 7,\n",
    "    'AlertInterval' : 60\n",
    "}"
   ]
  },
  {
   "cell_type": "markdown",
   "id": "417ee3f6",
   "metadata": {},
   "source": [
    "### Risk Info Text\n",
    "Additional information or advice texts for different risk levels can be configured here ..."
   ]
  },
  {
   "cell_type": "code",
   "execution_count": 7,
   "id": "fb77e262",
   "metadata": {},
   "outputs": [],
   "source": [
    "config['RiskInfoText'] = {\n",
    "    'Enabled': True,\n",
    "    'low' : 'NO PROTECTION REQUIRED - You can safely enjoy being outside!',\n",
    "    'moderate' : 'PROTECTION REQUIRED - Seek shade during midday hours! Slip on a shirt, slop on sunscreen and slap on hat!',\n",
    "    'high' : 'PROTECTION REQUIRED - Seek shade during midday hours! Slip on a shirt, slop on sunscreen and slap on hat!',\n",
    "    'very high' : 'EXTRA PROTECTION - Avoid being outside during midday hours! Make sure you seek shade! Shirt, sunscreen and hat are a must!',\n",
    "    'extreme' : 'EXTRA PROTECTION - Avoid being outside during midday hours! Make sure you seek shade! Shirt, sunscreen and hat are a must!'\n",
    "}"
   ]
  },
  {
   "cell_type": "markdown",
   "id": "578eca6e",
   "metadata": {},
   "source": [
    "### Configuration File\n",
    "This configuration can be changed by maintaining a configuration file ```config.ini``` with the following format:\n",
    "```\n",
    "[DEFAULT]\n",
    "enabled = False\n",
    "\n",
    "[UI]\n",
    "imagefilenameprefix = img/background_\n",
    "imagefilenamesuffix = .jpg\n",
    "\n",
    "[DataLogging]\n",
    "enabled = True\n",
    "dataloginterval = 60\n",
    "datalogfilenameprefix = uv_meter_data.\n",
    "\n",
    "[Alert]\n",
    "enabled = True\n",
    "alertuvindex = 7\n",
    "alertinterval = 60\n",
    "\n",
    "[RiskInfoText]\n",
    "enabled = True\n",
    "low = NO PROTECTION REQUIRED - You can safely enjoy being outside!\n",
    "moderate = PROTECTION REQUIRED - Seek shade during midday hours! Slip on a shirt, slop on sunscreen and slap on hat!\n",
    "high = PROTECTION REQUIRED - Seek shade during midday hours! Slip on a shirt, slop on sunscreen and slap on hat!\n",
    "very high = EXTRA PROTECTION - Avoid being outside during midday hours! Make sure you seek shade! Shirt, sunscreen and hat are a must!\n",
    "extreme = EXTRA PROTECTION - Avoid being outside during midday hours! Make sure you seek shade! Shirt, sunscreen and hat are a must!\n",
    "\n",
    "```"
   ]
  },
  {
   "cell_type": "code",
   "execution_count": 8,
   "id": "974936b0",
   "metadata": {},
   "outputs": [],
   "source": [
    "try:\n",
    "    with open('config.ini', 'r') as configfile:\n",
    "        config.read(configfile)\n",
    "except FileNotFoundError:\n",
    "    pass"
   ]
  },
  {
   "cell_type": "markdown",
   "id": "22cc7f01",
   "metadata": {},
   "source": [
    "## Location: Blues Notecard Cellular\n",
    "For acquiring an exact location an external GPS device can be connected to the Unihiker. In this example a __[Blues Notecard Cellular](https://blues.com/notecard-cellular/)__ with its on-board GPS is used. \n",
    "\n",
    "![Blues Notecard Cellular on a Blues Notecard Carrier A](img/notecard.png)\n",
    "\n",
    "The required __[Python library](https://dev.blues.io/tools-and-sdks/firmware-libraries/python-library/)__ needs to be installed with `pip`\n",
    "\n",
    "```\n",
    "pip3 install note-python\n",
    "```\n",
    "prior before running the next cell ...\n"
   ]
  },
  {
   "cell_type": "code",
   "execution_count": 9,
   "id": "6626e0ad",
   "metadata": {},
   "outputs": [],
   "source": [
    "import notecard\n",
    "\n",
    "import sys\n",
    "import glob\n",
    "import serial\n",
    "import time\n",
    "import datetime\n",
    "import csv"
   ]
  },
  {
   "cell_type": "markdown",
   "id": "80c4ab27",
   "metadata": {},
   "source": [
    "In this example the **Blues Notecard Cellular** is connected via a __[Notecarrier A](https://shop.blues.com/products/carr-al)__ via USB to the Unihiker. The following function tries to establish a connection to the card and returns a handle to communicate with it. It also sets up the GPS for periodic updates in given intervals."
   ]
  },
  {
   "cell_type": "code",
   "execution_count": 10,
   "id": "6914e116",
   "metadata": {},
   "outputs": [],
   "source": [
    "def initialize_notecard_cellular(gps_periodic):\n",
    "    devices = glob.glob('/dev/tty[A-Za-z]*')\n",
    "    for dev in devices:\n",
    "        try:\n",
    "            port = serial.Serial(dev, 9600)\n",
    "            card = notecard.OpenSerial(port)\n",
    "            print(\"Notecard: Opened at \"+dev)\n",
    "            break;\n",
    "        except (OSError, serial.SerialException, Exception):\n",
    "            card = None\n",
    "            pass\n",
    "    if card != None:\n",
    "        req = {\"req\":\"card.version\"}\n",
    "        rsp = card.Transaction(req)\n",
    "        print(f\"Notecard: Version: {rsp}\")\n",
    "        req = {\"req\": \"card.location.mode\"}\n",
    "        req[\"mode\"] = \"periodic\"\n",
    "        req[\"seconds\"] = gps_periodic\n",
    "        rsp = card.Transaction(req)\n",
    "        print(f\"Notecard: GPS: {rsp}\")\n",
    "    else:\n",
    "        print(\"Notecard: No Notecard found!\")\n",
    "    return card"
   ]
  },
  {
   "cell_type": "markdown",
   "id": "a95fbf7a",
   "metadata": {},
   "source": [
    "The following function takes a handle for a Notecard Cellular and a dictionary as arguments. It tries to acquire time and location data from the Notecard and returns these as fields in the given dictionary."
   ]
  },
  {
   "cell_type": "code",
   "execution_count": 11,
   "id": "f68885f9",
   "metadata": {},
   "outputs": [],
   "source": [
    "def update_time_and_location(card,record):\n",
    "    time = None\n",
    "    lat = None\n",
    "    lon = None\n",
    "    minutes = 0\n",
    "    if card != None:\n",
    "        try:\n",
    "            # acquire time and approx. card\n",
    "            req = {\"req\":\"card.time\"}\n",
    "            rsp = card.Transaction(req)\n",
    "            time = rsp['time'] if 'time' in rsp else None\n",
    "            lat = rsp['lat'] if 'lat' in rsp else None\n",
    "            lon = rsp['lon'] if 'lon' in rsp else None\n",
    "            minutes = rsp['minutes'] if 'minutes' in rsp else 0 \n",
    "            # acquire location from card\n",
    "            req = {\"req\":\"card.location\"}\n",
    "            rsp = card.Transaction(req)\n",
    "            lat = rsp['lat'] if 'lat' in rsp else lat\n",
    "            lon = rsp['lon'] if 'lon' in rsp else lon\n",
    "        except (OSError, serial.SerialException, Exception):\n",
    "            print(\"Notecard: Connection lost! (Try to reconnect and restart application.)\")\n",
    "            card = None\n",
    "            pass\n",
    "    record['time'] = datetime.datetime.fromtimestamp(time+60*minutes,datetime.timezone.utc) if time != None else None\n",
    "    record['lat'] = lat\n",
    "    record['lon'] = lon"
   ]
  },
  {
   "cell_type": "markdown",
   "id": "26064dd5",
   "metadata": {},
   "source": [
    "## Data Logging\n",
    "The next function writes the data in the given dict *record* in a CSV file named \n",
    "```<DATALOG_NAME_PREFIX><YYYY>-<MM>-<DD>.csv``` (e.g. uv_meter_data.2024-02-24.csv) if the given record has a valid time field ..."
   ]
  },
  {
   "cell_type": "code",
   "execution_count": 12,
   "id": "29430c4c",
   "metadata": {},
   "outputs": [],
   "source": [
    "def log_record(record):\n",
    "    if 'time' not in record or record['time'] == None:\n",
    "        return\n",
    "    filename=config[\"DataLogging\"][\"DataLogFilenamePrefix\"]+record['time'].strftime(\"%Y-%m-%d\")+\".csv\"\n",
    "    try:\n",
    "        with open(filename, 'x') as csvfile:\n",
    "            writer = csv.DictWriter(csvfile, fieldnames=record.keys(), delimiter=',')\n",
    "            writer.writeheader()\n",
    "    except FileExistsError:\n",
    "        pass\n",
    "    try:\n",
    "        with open(filename, 'a') as csvfile:\n",
    "            writer = csv.DictWriter(csvfile, fieldnames=record.keys(), delimiter=',')\n",
    "            writer.writerow(record)\n",
    "    except IOError:\n",
    "        print(\"I/O error\")"
   ]
  },
  {
   "cell_type": "markdown",
   "id": "e2447b2f",
   "metadata": {},
   "source": [
    "## Auxilliary Functions\n",
    "### UV Index\n",
    "The UV index is calculated by comparing the voltage value read from the sensor to the following mapping table for the **GUVA-S12D** sensor\n",
    "![UV Index](img/UV_index.png)"
   ]
  },
  {
   "cell_type": "code",
   "execution_count": 13,
   "id": "161e0a80",
   "metadata": {},
   "outputs": [],
   "source": [
    "# Function to convert sensor output voltage (mV) to UV index\n",
    "# for a GUVA-S12D based analog UV sensor based on a conversion table.\n",
    "# See http://www.esp32learning.com/code/esp32-and-guva-s12sd-uv-sensor-example.php\n",
    "# for conversion table ...\n",
    "def uv_index(mv):\n",
    "    uvi_mv_thresholds = [50, 227, 318, 408, 503, 606, 696, 795, 881, 976, 1079, 1170];\n",
    "    \n",
    "    for threshold in uvi_mv_thresholds:\n",
    "        if (mv < threshold ):\n",
    "            break\n",
    "            \n",
    "    i = uvi_mv_thresholds.index(threshold)\n",
    "    \n",
    "    if (i < 11 ):\n",
    "        uvi = mv/threshold*(i+1)\n",
    "    else:\n",
    "        uvi = 11\n",
    "        \n",
    "    return uvi"
   ]
  },
  {
   "cell_type": "markdown",
   "id": "cf9017a9",
   "metadata": {},
   "source": [
    "### UV Level\n",
    "The UV level ($mW/cm^{2}$) is calculated as follows\n",
    "\"The output voltage is: $Vo = 4.3 * Diode-Current-in-\\mu A$.\n",
    "So if the photocurrent is $1 \\mu A (\\sim 9 mW/cm^2)$, the output voltage is $4.3V$.\""
   ]
  },
  {
   "cell_type": "code",
   "execution_count": 14,
   "id": "f1c612ca",
   "metadata": {},
   "outputs": [],
   "source": [
    "# Function to convert sensor output voltage (mV) to mW/m^2\n",
    "# for a GUVA-S12D based analog UV sensor: \"The output voltage is: Vo = 4.3 * Diode-Current-in-uA.\n",
    "# So if the photocurrent is 1uA (~ 9 mW/cm^2), the output voltage is 4.3V.\"\n",
    "def uv_level(mv):\n",
    "    return ( mv / 43 * 9 ) # 1 uA per 9 mW/cm^2 at 4.3V"
   ]
  },
  {
   "cell_type": "markdown",
   "id": "c0aeac07",
   "metadata": {},
   "source": [
    "### Risk level\n",
    "![Risk level](img/uv-index-en.png)"
   ]
  },
  {
   "cell_type": "code",
   "execution_count": 15,
   "id": "2b54fe05",
   "metadata": {},
   "outputs": [],
   "source": [
    "def uv_risk_level(uvi):\n",
    "    # UV risk level mapping (UV index threshold,risk level,display color)\n",
    "    risk_levels=[(2,\"low\",\"green\"),(5,\"moderate\",\"yellow\"),(7,\"high\",\"orange\"),(10,\"very high\",\"red\"),(11,\"extreme\",\"violet\")]\n",
    "    \n",
    "    for risk_level in risk_levels:\n",
    "        if (uvi <= risk_level[0]):\n",
    "            break\n",
    "    \n",
    "    return risk_level"
   ]
  },
  {
   "cell_type": "markdown",
   "id": "cd064ba0",
   "metadata": {},
   "source": [
    "### Audible UV Index\n",
    "\n",
    "The UV index is presented as a sequence of tones played via the internal buzzer:\n",
    "\n",
    "One base tone C at the beginning of each sequence followed by\n",
    "\n",
    "* a number of F tones corresponding to (rounded) UV index levels 1 - 5 or\n",
    "* a number of A tones corresponding to (rounded) UV index levels 6 - 10 minus 5, following a sequence of five F tones or\n",
    "* a sequence of five F tone followed by five A tone and one C tone (next octave) for (rounded) UV index levels 11+.\n",
    "For example, if the UV index is 4 the tone sequence is C,F,F,F,F and if the UV index is 6.7 the tone sequence is C,F,F,F,F,F,A,A\n",
    "\n",
    "Represented as score the tone sequence looks like shown in the following image:\n",
    "![Score](img/audible_uv_meter_score.png)"
   ]
  },
  {
   "cell_type": "code",
   "execution_count": 16,
   "id": "7913244b",
   "metadata": {},
   "outputs": [],
   "source": [
    "def buzzer_play_uv_index_melody(uvi):\n",
    "    # Play the corresponding tone sequence for the measured UV index on the buzzer:\n",
    "    # C5 (F5){UV index} for an UV index < 6,\n",
    "    # C5 (F5){5} (A5){UV index - 5} for an UV index 6 - 10 and\n",
    "    # C5 (F5){5} (A5){5} C6 for UV index 11 ...\n",
    "    buzzer.set_tempo(4, 160)\n",
    "    buzzer.pitch(523, 4) # C5\n",
    "    for i in range(0,uvi):\n",
    "        if i < 5:\n",
    "            buzzer.pitch(698, 4) # F5\n",
    "        elif i < 10:\n",
    "            buzzer.pitch(880, 4) # A5\n",
    "        else:\n",
    "            buzzer.pitch(1046, 4) # C6\n",
    "        buzzer.stop()\n",
    "        print(f\"Buzz! {i}\")"
   ]
  },
  {
   "cell_type": "markdown",
   "id": "12bff950",
   "metadata": {},
   "source": [
    "## Application\n",
    "\n",
    "### Interrupt handler for button"
   ]
  },
  {
   "cell_type": "code",
   "execution_count": 17,
   "id": "330d6413",
   "metadata": {},
   "outputs": [],
   "source": [
    "def btn_a_rasing_handler(pin):  # Interrupt event callback function for button A rising edge\n",
    "    global btn_a_pressed\n",
    "    btn_a_pressed = True\n",
    "    "
   ]
  },
  {
   "cell_type": "markdown",
   "id": "0e83dc2a",
   "metadata": {},
   "source": [
    "### Initialization"
   ]
  },
  {
   "cell_type": "code",
   "execution_count": 18,
   "id": "4d178f70",
   "metadata": {},
   "outputs": [
    {
     "name": "stdout",
     "output_type": "stream",
     "text": [
      "\n",
      "  ___________________________\n",
      " |                           |\n",
      " |      PinPong v0.5.1       |\n",
      " |    Designed by DFRobot    |\n",
      " |___________________________|\n",
      " \n",
      "[01] Python3.7.3 Linux-4.4.143-67-rockchip-g01bbbc5d1312-aarch64-with-debian-10.11 Board: UNIHIKER\n",
      "selected -> board: UNIHIKER serial: /dev/ttyS3\n",
      "[10] Opening /dev/ttyS3\n",
      "[32] Firmata ID: 3.7\n",
      "[22] Arduino compatible device found and connected to /dev/ttyS3\n",
      "[40] Retrieving analog map...\n",
      "[42] Auto-discovery complete. Found 30 Digital Pins and 30 Analog Pins\n",
      "------------------------------\n",
      "All right. PinPong go...\n",
      "------------------------------\n"
     ]
    }
   ],
   "source": [
    "Board().begin() # Initialize the UNIHIKER\n",
    "gui = GUI() # Instantiate the GUI class"
   ]
  },
  {
   "cell_type": "markdown",
   "id": "982a6ac1",
   "metadata": {},
   "source": [
    "### Analog input configuration"
   ]
  },
  {
   "cell_type": "code",
   "execution_count": 19,
   "id": "28e9013d",
   "metadata": {},
   "outputs": [],
   "source": [
    "# ADC analog input pins supported: P0 P1 P2 P3 P4 P10 P21 P22\n",
    "# adc21 = ADC(Pin(Pin.P21))  # Use Pin object with ADC to enable analog input - Method 1\n",
    "adc21 = Pin(Pin.P21, Pin.ANALOG)  # Initialize the pin as an analog input - Method 2"
   ]
  },
  {
   "cell_type": "markdown",
   "id": "38d16f58",
   "metadata": {},
   "source": [
    "### Interrupt handling for button"
   ]
  },
  {
   "cell_type": "code",
   "execution_count": 20,
   "id": "efd6c914",
   "metadata": {},
   "outputs": [],
   "source": [
    "btn_a_pressed = False\n",
    "button_a.irq(trigger=Pin.IRQ_RISING, handler=btn_a_rasing_handler)  # Trigger on rising edge"
   ]
  },
  {
   "cell_type": "markdown",
   "id": "b7dd1363",
   "metadata": {},
   "source": [
    "### GUI Setup\n",
    "\n",
    "The GUI displays the measured UV index and the associated risk level on a background image with a touch of the color associated with the risk level: \n",
    "![Screenshot](img/screenshot.jpg)"
   ]
  },
  {
   "cell_type": "code",
   "execution_count": 21,
   "id": "c7b48183",
   "metadata": {},
   "outputs": [],
   "source": [
    "# GUI: \n",
    "#   Display a background image with the color touch of the risk level,\n",
    "#   the UV index and the risk level text ...\n",
    "try:\n",
    "    image_filename = config['UI']['ImageFilenamePrefix']+\"green\"+config['UI']['ImageFilenameSuffix']\n",
    "    bg = gui.draw_image(x=0, y=0, h=320, w=240, image=image_filename)\n",
    "except FileNotFoundError:\n",
    "    bg = None\n",
    "    gui.fill_rect(x=0, y=0, h=320, w=240, color=\"gray\")\n",
    "    pass\n",
    "\n",
    "title = gui.draw_text(x=120, y=20, text=\"UV Index\", origin=\"center\", color=\"white\", font_size=25)\n",
    "uv_index_text = gui.draw_digit(x=120, y=100, text=\"UVI\", origin=\"center\", color=\"white\", font_size=50) # Display UV index using 7-segment font\n",
    "uv_risk_text = gui.draw_text(x=120, y=160, text=\"N/A\", origin=\"center\", color=\"white\", font_size=25)\n",
    "\n",
    "if config['RiskInfoText']['Enabled']:\n",
    "    risk_info_text = gui.draw_text(x=120, y=240, text=\"...\", origin=\"center\", color=\"white\", font_size=10, w=220)"
   ]
  },
  {
   "cell_type": "markdown",
   "id": "96f263a4",
   "metadata": {},
   "source": [
    "\n",
    "### Loop"
   ]
  },
  {
   "cell_type": "code",
   "execution_count": 22,
   "id": "3bf80bb4",
   "metadata": {},
   "outputs": [
    {
     "name": "stdout",
     "output_type": "stream",
     "text": [
      "Notecard: No Notecard found!\n"
     ]
    }
   ],
   "source": [
    "r0 = None\n",
    "\n",
    "datalog_interval = int(config['DataLogging']['DataLogInterval'])\n",
    "datalog_record = {}\n",
    "datalog_time = 0\n",
    "\n",
    "alert_uv_index = int(config['Alert']['AlertUvIndex'])\n",
    "alert_interval = int(config['Alert']['AlertInterval'])\n",
    "alert_time = 0\n",
    "\n",
    "# Notecard initialization\n",
    "if config['DataLogging']['Enabled']:\n",
    "    notecard_cellular = initialize_notecard_cellular(int(datalog_interval/2))"
   ]
  },
  {
   "cell_type": "code",
   "execution_count": null,
   "id": "597e5540",
   "metadata": {},
   "outputs": [],
   "source": [
    "while True:\n",
    "    # Read the sensor value ...\n",
    "    v = adc21.read_analog()  # Read the analog signal value from pin A0 - Method 2\n",
    "        \n",
    "    # Calculate UV index, level and risk ...\n",
    "    i = uv_index(v)\n",
    "    l = uv_level(v)\n",
    "    r = uv_risk_level(i)\n",
    "    \n",
    "    # Update UI ...\n",
    "    uv_index_text.config(text=\"%.2f\" % i)\n",
    "    if r0 != r: # Update the background image and the risk level text only if the risk level changed ...\n",
    "        if bg != None:\n",
    "            try:\n",
    "                image_filename = config['UI']['ImageFilenamePrefix']+r[2]+config['UI']['ImageFilenameSuffix']\n",
    "                bg.config(image=image_filename)    \n",
    "            except FileNotFoundError:\n",
    "                bg = None\n",
    "            pass\n",
    "        uv_risk_text.config(text=r[1])\n",
    "        if config['RiskInfoText']['Enabled']:\n",
    "            risk_info_text.config(text=config['RiskInfoText'][r[1]])\n",
    "    \n",
    "    # If the button has been pressed, play the UV index 'melody' ...\n",
    "    if  btn_a_pressed:\n",
    "        btn_a_pressed = False\n",
    "        buzzer_play_uv_index_melody(round(i))\n",
    "        \n",
    "    # Data logging ...\n",
    "    if config['DataLogging']['Enabled'] and time.time() - datalog_time >= datalog_interval:\n",
    "        datalog_record['uv_index'] = i\n",
    "        datalog_record['uv_level'] = l\n",
    "        update_time_and_location(notecard_cellular,datalog_record)\n",
    "        log_record(datalog_record)\n",
    "        datalog_time = time.time()\n",
    "        \n",
    "    # Automatic acoustic alert if a defined UV index threshold has been reached ... \n",
    "    if config['Alert']['Enabled'] and i >= alert_uv_index and time.time() - alert_time >= alert_interval:\n",
    "        buzzer_play_uv_index_melody(round(i))\n",
    "        alert_time = time.time()\n",
    "\n",
    "    r0 = r\n",
    "    \n",
    "    time.sleep(1) # Wait for a second .."
   ]
  },
  {
   "cell_type": "markdown",
   "id": "2f2e41c1",
   "metadata": {},
   "source": [
    "## Test\n",
    "![Test](img/test.jpg)"
   ]
  },
  {
   "cell_type": "markdown",
   "id": "21afdd9a",
   "metadata": {},
   "source": [
    "with Notecard connected:\n",
    "![Test with Notecard](img/test_with_notecard.jpg)"
   ]
  }
 ],
 "metadata": {
  "kernelspec": {
   "display_name": "Python 3 (ipykernel)",
   "language": "python",
   "name": "python3"
  },
  "language_info": {
   "codemirror_mode": {
    "name": "ipython",
    "version": 3
   },
   "file_extension": ".py",
   "mimetype": "text/x-python",
   "name": "python",
   "nbconvert_exporter": "python",
   "pygments_lexer": "ipython3",
   "version": "3.7.3"
  }
 },
 "nbformat": 4,
 "nbformat_minor": 5
}
